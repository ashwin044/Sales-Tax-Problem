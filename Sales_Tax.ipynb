{
 "cells": [
  {
   "cell_type": "code",
   "execution_count": 327,
   "metadata": {},
   "outputs": [],
   "source": [
    "from math import ceil\n",
    "n = int(input(\"enter number of items\\n\"))\n",
    "items =[]\n",
    "for i in range(n):\n",
    "    data = input(f\"Enter item number {i+1}\\n\")\n",
    "    items.append(data)\n"
   ]
  },
  {
   "cell_type": "code",
   "execution_count": 328,
   "metadata": {},
   "outputs": [],
   "source": [
    "excluded_items = [\"books\",\"chocolates\",\"pills\",\"chocolate\",\"book\",\"pill\"] # list of items to be excluded\n",
    "\n",
    "# function to check whether the items are in the list of excluded items\n",
    "\n",
    "def check_if_item_is_excluded(item):\n",
    "    flag = 0\n",
    "    for data in item:\n",
    "        if data in excluded_items:\n",
    "            flag = 1 # if item is excluded from tax\n",
    "            break\n",
    "    return flag"
   ]
  },
  {
   "cell_type": "code",
   "execution_count": 329,
   "metadata": {},
   "outputs": [],
   "source": [
    "# function to check whether the items are imported\n",
    "\n",
    "def check_if_item_is_imported(item):\n",
    "    flag = 0\n",
    "    for data in item:\n",
    "        if data == \"imported\":\n",
    "            flag = 1 # if item is imported\n",
    "            break\n",
    "    return flag"
   ]
  },
  {
   "cell_type": "code",
   "execution_count": 330,
   "metadata": {},
   "outputs": [],
   "source": [
    "# function to join split data and add new_price\n",
    "\n",
    "def calculate_new_price(items,new_price):\n",
    "    items[-1] = str(round(new_price,2))\n",
    "    items = ' '.join(items)\n",
    "    return items"
   ]
  },
  {
   "cell_type": "code",
   "execution_count": 342,
   "metadata": {},
   "outputs": [],
   "source": [
    "# funtion to calculate 10% tax on items\n",
    "\n",
    "def ten_percent_tax(items):\n",
    "    price = float(items[-1]) # get the price of the item\n",
    "    tax_amount = round(float(price * 0.10),2) # to round of to 2 decimal places\n",
    "    tax_amount = ceil(tax_amount*20)/20   # to round of to nearest 0.05 decimal\n",
    "    return tax_amount"
   ]
  },
  {
   "cell_type": "code",
   "execution_count": 343,
   "metadata": {},
   "outputs": [],
   "source": [
    "# funtion to calculate 10% tax on items\n",
    "\n",
    "def five_percent_tax(items):\n",
    "    price = float(items[-1]) # get the price of the item\n",
    "    tax_amount = round(float(price * 0.05),2) # to round of to 2 decimal places\n",
    "    tax_amount = ceil(tax_amount*20)/20 # to round of to nearest 0.05 decimal\n",
    "    return tax_amount"
   ]
  },
  {
   "cell_type": "code",
   "execution_count": 344,
   "metadata": {},
   "outputs": [],
   "source": [
    "Total_sales_taxes= float() # To calculate the total sales tax rate\n",
    "Total_price = float() # To calculate the total price of all items\n",
    "items_price_including_taxes= [] # list to store items with new_price\n",
    "\n",
    "for item in items:\n",
    "    \n",
    "    temp_item_list= []\n",
    "    temp_item_list = item.split() # to split sentences into words\n",
    "\n",
    "    # if item is excempted from 10% tax but has 5% import tax\n",
    "\n",
    "    if ((check_if_item_is_excluded(temp_item_list) == 1) and (check_if_item_is_imported(temp_item_list) == 1)):\n",
    "        \n",
    "        price =  float(temp_item_list[-1])\n",
    "        Total_sales_taxes = Total_sales_taxes+five_percent_tax(temp_item_list)\n",
    "        new_price = price + five_percent_tax(temp_item_list)\n",
    "        items_price_including_taxes.append(calculate_new_price(temp_item_list, new_price))\n",
    "        Total_price = Total_price+new_price\n",
    "\n",
    "    # if item has both 10% tax and 5% import tax\n",
    "\n",
    "    elif ((check_if_item_is_excluded(temp_item_list) == 0) and (check_if_item_is_imported(temp_item_list) == 1)):\n",
    "        \n",
    "        price =  float(temp_item_list[-1])\n",
    "        Total_sales_taxes = Total_sales_taxes+five_percent_tax(temp_item_list)+ten_percent_tax(temp_item_list)\n",
    "        new_price = price +five_percent_tax(temp_item_list)+ten_percent_tax(temp_item_list)\n",
    "        items_price_including_taxes.append(calculate_new_price(temp_item_list, new_price))\n",
    "        Total_price = Total_price+new_price\n",
    "\n",
    "    # if item has 10% tax but excempted from 5% import tax    \n",
    "\n",
    "    elif ((check_if_item_is_excluded(temp_item_list) == 0) and (check_if_item_is_imported(temp_item_list) == 0)):\n",
    "        \n",
    "        price =  float(temp_item_list[-1])\n",
    "        Total_sales_taxes = Total_sales_taxes+ten_percent_tax(temp_item_list)\n",
    "        new_price = price + ten_percent_tax(temp_item_list)\n",
    "        items_price_including_taxes.append(calculate_new_price(temp_item_list, new_price))\n",
    "        Total_price = Total_price+new_price\n",
    "        \n",
    "    # if item is excempted from both 10% and 5% import tax\n",
    "\n",
    "    else:\n",
    "        price =  float(temp_item_list[-1])\n",
    "        Total_sales_taxes = Total_sales_taxes \n",
    "        items_price_including_taxes.append(calculate_new_price(temp_item_list, price))\n",
    "        Total_price = Total_price+price\n",
    "\n"
   ]
  },
  {
   "cell_type": "code",
   "execution_count": 346,
   "metadata": {},
   "outputs": [
    {
     "name": "stdout",
     "output_type": "stream",
     "text": [
      "1 imported bottle of perfume at 27.99\n",
      "1 bottle of perfume at 18.99\n",
      "1 packet of headache pills at 9.75\n",
      "1 box of imported chocolates at 11.25\n",
      "\n",
      "-----------------------------------------------------------------------------------------------\n",
      "\n",
      "1 imported bottle of perfume at 32.19\n",
      "1 bottle of perfume at 20.89\n",
      "1 packet of headache pills at 9.75\n",
      "1 box of imported chocolates at 11.85\n",
      "sales Taxes 6.7 \n",
      "Total 74.68\n"
     ]
    }
   ],
   "source": [
    "for item in items:\n",
    "    print(item)\n",
    "\n",
    "print(\"\\n-----------------------------------------------------------------------------------------------\\n\")\n",
    "\n",
    "for item in items_price_including_taxes :\n",
    "    print(item)\n",
    "print(f\"sales Taxes {round(Total_sales_taxes,2)} \")\n",
    "print(f\"Total {round(Total_price,2)}\")"
   ]
  },
  {
   "cell_type": "code",
   "execution_count": null,
   "metadata": {},
   "outputs": [],
   "source": []
  }
 ],
 "metadata": {
  "kernelspec": {
   "display_name": "Python 3.10.5 64-bit",
   "language": "python",
   "name": "python3"
  },
  "language_info": {
   "codemirror_mode": {
    "name": "ipython",
    "version": 3
   },
   "file_extension": ".py",
   "mimetype": "text/x-python",
   "name": "python",
   "nbconvert_exporter": "python",
   "pygments_lexer": "ipython3",
   "version": "3.10.5"
  },
  "orig_nbformat": 4,
  "vscode": {
   "interpreter": {
    "hash": "7a006cfc1a25f0505ea0a5fa0ebbb8973650adc350718598ca63a697432985b6"
   }
  }
 },
 "nbformat": 4,
 "nbformat_minor": 2
}
